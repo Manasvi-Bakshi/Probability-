{
 "cells": [
  {
   "cell_type": "markdown",
   "metadata": {},
   "source": [
    "# Lab Experiment 2 "
   ]
  },
  {
   "cell_type": "markdown",
   "metadata": {},
   "source": [
    "### Mean, Median, and Mode"
   ]
  },
  {
   "cell_type": "markdown",
   "metadata": {},
   "source": [
    "**Mean :-** \n",
    "The mean is the average of a set of numbers, calculated by summing all the values and dividing by the total number of values. It is sensitive to outliers.\n",
    "\n",
    "**Median :-** \n",
    "The median is the middle value of a dataset when it is ordered in ascending or descending order. If there is an even number of values, the median is the average of the two middle numbers. It is less affected by outliers.\n",
    "\n",
    "**Mode :-**\n",
    "The mode is the value that appears most frequently in a dataset. A dataset may have one mode, more than one mode (bimodal or multimodal), or no mode at all if all values occur with the same frequency."
   ]
  },
  {
   "cell_type": "markdown",
   "metadata": {},
   "source": [
    "### Simple Function Python"
   ]
  },
  {
   "cell_type": "code",
   "execution_count": 1,
   "metadata": {},
   "outputs": [
    {
     "name": "stdout",
     "output_type": "stream",
     "text": [
      "Mean: 3.4444444444444446\n",
      "Median: 4\n",
      "Mode: [4]\n"
     ]
    }
   ],
   "source": [
    "def calculate_mean(data):\n",
    "    return sum(data) / len(data)\n",
    "\n",
    "def calculate_median(data):\n",
    "    sorted_data = sorted(data)\n",
    "    n = len(sorted_data)\n",
    "    mid = n // 2\n",
    "    if n % 2 == 0:  # Even number of elements\n",
    "        return (sorted_data[mid - 1] + sorted_data[mid]) / 2\n",
    "    else:  # Odd number of elements\n",
    "        return sorted_data[mid]\n",
    "\n",
    "def calculate_mode(data):\n",
    "    frequency = {}\n",
    "    for number in data:\n",
    "        frequency[number] = frequency.get(number, 0) + 1\n",
    "    max_freq = max(frequency.values())\n",
    "    modes = [number for number, freq in frequency.items() if freq == max_freq]\n",
    "    return modes\n",
    "\n",
    "# Example data\n",
    "data = [1, 2, 2, 3, 4, 4, 4, 5, 6]\n",
    "\n",
    "mean = calculate_mean(data)\n",
    "median = calculate_median(data)\n",
    "mode = calculate_mode(data)\n",
    "\n",
    "print(\"Mean:\", mean)\n",
    "print(\"Median:\", median)\n",
    "print(\"Mode:\", mode)\n"
   ]
  },
  {
   "cell_type": "markdown",
   "metadata": {},
   "source": [
    "### Using Libraries"
   ]
  },
  {
   "cell_type": "code",
   "execution_count": 2,
   "metadata": {},
   "outputs": [
    {
     "name": "stdout",
     "output_type": "stream",
     "text": [
      "Using NumPy:\n",
      "Mean: 3.4444444444444446\n",
      "Median: 4.0\n",
      "Mode: 4\n",
      "\n",
      "Using Statistics:\n",
      "Mean: 3.4444444444444446\n",
      "Median: 4\n",
      "Mode: 4\n"
     ]
    }
   ],
   "source": [
    "import numpy as np\n",
    "import pandas as pd\n",
    "from statistics import mean, median, mode\n",
    "\n",
    "# Example data\n",
    "data = [1, 2, 2, 3, 4, 4, 4, 5, 6]\n",
    "\n",
    "# Using NumPy\n",
    "numpy_mean = np.mean(data)\n",
    "numpy_median = np.median(data)\n",
    "numpy_mode = pd.Series(data).mode()[0]  # Use Pandas to calculate mode\n",
    "\n",
    "# Using Statistics\n",
    "statistics_mean = mean(data)\n",
    "statistics_median = median(data)\n",
    "statistics_mode = mode(data)\n",
    "\n",
    "print(\"Using NumPy:\")\n",
    "print(\"Mean:\", numpy_mean)\n",
    "print(\"Median:\", numpy_median)\n",
    "print(\"Mode:\", numpy_mode)\n",
    "\n",
    "print(\"\\nUsing Statistics:\")\n",
    "print(\"Mean:\", statistics_mean)\n",
    "print(\"Median:\", statistics_median)\n",
    "print(\"Mode:\", statistics_mode)\n"
   ]
  }
 ],
 "metadata": {
  "kernelspec": {
   "display_name": "Python 3",
   "language": "python",
   "name": "python3"
  },
  "language_info": {
   "codemirror_mode": {
    "name": "ipython",
    "version": 3
   },
   "file_extension": ".py",
   "mimetype": "text/x-python",
   "name": "python",
   "nbconvert_exporter": "python",
   "pygments_lexer": "ipython3",
   "version": "3.12.7"
  }
 },
 "nbformat": 4,
 "nbformat_minor": 2
}
