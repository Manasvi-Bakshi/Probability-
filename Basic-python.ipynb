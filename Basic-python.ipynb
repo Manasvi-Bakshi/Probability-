{
 "cells": [
  {
   "cell_type": "markdown",
   "id": "bd33f6be",
   "metadata": {},
   "source": [
    "# Lab Experiment 1"
   ]
  },
  {
   "cell_type": "markdown",
   "id": "b1c46220",
   "metadata": {},
   "source": [
    "### Python Basics"
   ]
  },
  {
   "cell_type": "code",
   "execution_count": 1,
   "id": "875e9b17",
   "metadata": {},
   "outputs": [],
   "source": [
    "# Defining variables\n",
    "x = 28        # An integer\n",
    "y = 14\n",
    "z = 9.7532      # A float\n",
    "t = \"Manasvi\"  # A string\n"
   ]
  },
  {
   "cell_type": "markdown",
   "id": "52e67272",
   "metadata": {},
   "source": [
    "### Simple Calculator Operation"
   ]
  },
  {
   "cell_type": "code",
   "execution_count": 2,
   "id": "3eb6bff2",
   "metadata": {},
   "outputs": [
    {
     "name": "stdout",
     "output_type": "stream",
     "text": [
      "Addition: 42\n",
      "Subtraction: 14\n",
      "Multiplication: 392\n",
      "Division: 2.0\n"
     ]
    }
   ],
   "source": [
    "\n",
    "# Addition\n",
    "sum_result = x + y\n",
    "print(\"Addition:\", sum_result)\n",
    "\n",
    "# Subtraction\n",
    "sub_result = x - y\n",
    "print(\"Subtraction:\", sub_result)\n",
    "\n",
    "# Multiplication\n",
    "mul_result = x * y\n",
    "print(\"Multiplication:\", mul_result)\n",
    "\n",
    "# Division\n",
    "div_result = x / y\n",
    "print(\"Division:\", div_result)\n"
   ]
  },
  {
   "cell_type": "markdown",
   "id": "f890b756",
   "metadata": {},
   "source": [
    "### List"
   ]
  },
  {
   "cell_type": "code",
   "execution_count": 3,
   "id": "3f492e95",
   "metadata": {},
   "outputs": [
    {
     "name": "stdout",
     "output_type": "stream",
     "text": [
      "First fruit: apple\n",
      "Fruits after appending: ['apple', 'banana', 'cherry', 'date', 'elderberry']\n",
      "Sliced fruits: ['banana', 'cherry']\n"
     ]
    }
   ],
   "source": [
    "# Creating a list\n",
    "fruits = [\"apple\", \"banana\", \"cherry\", \"date\"]\n",
    "\n",
    "# Indexing\n",
    "first_fruit = fruits[0]\n",
    "print(\"First fruit:\", first_fruit)\n",
    "\n",
    "# Appending\n",
    "fruits.append(\"elderberry\")\n",
    "print(\"Fruits after appending:\", fruits)\n",
    "\n",
    "# Slicing\n",
    "sliced_fruits = fruits[1:3]\n",
    "print(\"Sliced fruits:\", sliced_fruits)\n",
    "\n"
   ]
  },
  {
   "cell_type": "markdown",
   "id": "3aa4a4c5",
   "metadata": {},
   "source": [
    "### Dictionary"
   ]
  },
  {
   "cell_type": "code",
   "execution_count": 4,
   "id": "0e4c9927",
   "metadata": {},
   "outputs": [
    {
     "name": "stdout",
     "output_type": "stream",
     "text": [
      "Alice\n",
      "{'name': 'Alice', 'age': 30, 'city': 'New York', 'occupation': 'Engineer'}\n",
      "{'name': 'Alice', 'age': 31, 'city': 'New York', 'occupation': 'Engineer'}\n",
      "{'name': 'Alice', 'age': 31, 'occupation': 'Engineer'}\n",
      "dict_keys(['name', 'age', 'occupation'])\n",
      "dict_values(['Alice', 31, 'Engineer'])\n",
      "dict_items([('name', 'Alice'), ('age', 31), ('occupation', 'Engineer')])\n",
      "True\n",
      "31\n",
      "{}\n"
     ]
    }
   ],
   "source": [
    "# Creating a dictionary\n",
    "my_dict = {\n",
    "    \"name\": \"Alice\",\n",
    "    \"age\": 30,\n",
    "    \"city\": \"New York\"\n",
    "}\n",
    "\n",
    "# Accessing Values\n",
    "print(my_dict[\"name\"])  # Output: Alice\n",
    "\n",
    "# Adding a New Key-Value Pair\n",
    "my_dict[\"occupation\"] = \"Engineer\"\n",
    "print(my_dict)  # Output: {'name': 'Alice', 'age': 30, 'city': 'New York', 'occupation': 'Engineer'}\n",
    "\n",
    "# Updating a Value\n",
    "my_dict[\"age\"] = 31\n",
    "print(my_dict)  # Output: {'name': 'Alice', 'age': 31, 'city': 'New York', 'occupation': 'Engineer'}\n",
    "\n",
    "# Removing a Key-Value Pair\n",
    "del my_dict[\"city\"]\n",
    "print(my_dict)  # Output: {'name': 'Alice', 'age': 31, 'occupation': 'Engineer'}\n",
    "\n",
    "# Getting All Keys\n",
    "keys = my_dict.keys()\n",
    "print(keys)  # Output: dict_keys(['name', 'age', 'occupation'])\n",
    "\n",
    "# Getting All Values\n",
    "values = my_dict.values()\n",
    "print(values)  # Output: dict_values(['Alice', 31, 'Engineer'])\n",
    "\n",
    "# Getting All Items\n",
    "items = my_dict.items()\n",
    "print(items)  # Output: dict_items([('name', 'Alice'), ('age', 31), ('occupation', 'Engineer')])\n",
    "\n",
    "# Checking if a Key Exists\n",
    "exists = \"name\" in my_dict\n",
    "print(exists)  # Output: True\n",
    "\n",
    "# Using get Method\n",
    "age = my_dict.get(\"age\")\n",
    "print(age)  # Output: 31\n",
    "\n",
    "# Clearing the Dictionary\n",
    "my_dict.clear()\n",
    "print(my_dict)  # Output: {}\n"
   ]
  },
  {
   "cell_type": "markdown",
   "id": "ccfaa3e1",
   "metadata": {},
   "source": [
    "### Numpy"
   ]
  },
  {
   "cell_type": "code",
   "execution_count": 5,
   "id": "07977e99",
   "metadata": {},
   "outputs": [
    {
     "name": "stdout",
     "output_type": "stream",
     "text": [
      "Requirement already satisfied: numpy in c:\\users\\csed\\anaconda3\\lib\\site-packages (1.21.5)\n"
     ]
    }
   ],
   "source": [
    "!pip install numpy"
   ]
  },
  {
   "cell_type": "code",
   "execution_count": 6,
   "id": "cbd219dc",
   "metadata": {},
   "outputs": [
    {
     "name": "stdout",
     "output_type": "stream",
     "text": [
      "NumPy Array: [1 2 3 4 5]\n",
      "Arange Array: [0 2 4 6 8]\n",
      "NumPy Result (Array + 2): [3 4 5 6 7]\n",
      "Python List Result (List + 2): [3, 4, 5, 6, 7]\n",
      "NumPy Multiplication Result: [ 2  4  6  8 10]\n",
      "Python List Multiplication Result: [2, 4, 6, 8, 10]\n",
      "NumPy Sum: 1783293664 Time taken: 0.0\n",
      "Python List Sum: 499999500000 Time taken: 0.027646303176879883\n"
     ]
    }
   ],
   "source": [
    "import numpy as np\n",
    "\n",
    "# Creating a NumPy array\n",
    "np_array = np.array([1, 2, 3, 4, 5])\n",
    "print(\"NumPy Array:\", np_array)\n",
    "\n",
    "# Creating an alias for NumPy\n",
    "np_alias = np  # Now you can use np_alias as a shortcut for np\n",
    "\n",
    "# Using arange to create an array\n",
    "arange_array = np_alias.arange(0, 10, 2)  # Start, stop, step\n",
    "print(\"Arange Array:\", arange_array)\n",
    "\n",
    "# Comparing numerical operations with Python lists\n",
    "python_list = [1, 2, 3, 4, 5]\n",
    "\n",
    "# Adding 2 to each element using NumPy\n",
    "np_result = np_array + 2\n",
    "print(\"NumPy Result (Array + 2):\", np_result)\n",
    "\n",
    "# Adding 2 to each element using a Python list (list comprehension)\n",
    "list_result = [x + 2 for x in python_list]\n",
    "print(\"Python List Result (List + 2):\", list_result)\n",
    "\n",
    "# Multiplying each element by 2 using NumPy\n",
    "np_multiplication = np_array * 2\n",
    "print(\"NumPy Multiplication Result:\", np_multiplication)\n",
    "\n",
    "# Multiplying each element by 2 using a Python list (list comprehension)\n",
    "list_multiplication = [x * 2 for x in python_list]\n",
    "print(\"Python List Multiplication Result:\", list_multiplication)\n",
    "\n",
    "# Comparing execution time for large arrays/lists\n",
    "import time\n",
    "\n",
    "# Create a large array and list\n",
    "large_np_array = np_alias.arange(1_000_000)\n",
    "large_python_list = list(range(1_000_000))\n",
    "\n",
    "# Timing NumPy operation\n",
    "start_time = time.time()\n",
    "np_sum = np_alias.sum(large_np_array)\n",
    "np_time = time.time() - start_time\n",
    "\n",
    "# Timing Python list operation\n",
    "start_time = time.time()\n",
    "list_sum = sum(large_python_list)\n",
    "list_time = time.time() - start_time\n",
    "\n",
    "print(\"NumPy Sum:\", np_sum, \"Time taken:\", np_time)\n",
    "print(\"Python List Sum:\", list_sum, \"Time taken:\", list_time)\n"
   ]
  },
  {
   "cell_type": "code",
   "execution_count": null,
   "id": "3ff23a34",
   "metadata": {},
   "outputs": [],
   "source": []
  }
 ],
 "metadata": {
  "kernelspec": {
   "display_name": "Python 3 (ipykernel)",
   "language": "python",
   "name": "python3"
  },
  "language_info": {
   "codemirror_mode": {
    "name": "ipython",
    "version": 3
   },
   "file_extension": ".py",
   "mimetype": "text/x-python",
   "name": "python",
   "nbconvert_exporter": "python",
   "pygments_lexer": "ipython3",
   "version": "3.9.13"
  }
 },
 "nbformat": 4,
 "nbformat_minor": 5
}
