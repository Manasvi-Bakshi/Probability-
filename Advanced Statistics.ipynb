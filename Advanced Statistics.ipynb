{
 "cells": [
  {
   "cell_type": "markdown",
   "metadata": {},
   "source": [
    "# Lab Experiment 5"
   ]
  },
  {
   "cell_type": "markdown",
   "metadata": {},
   "source": [
    "### Chi Square Test"
   ]
  },
  {
   "cell_type": "code",
   "execution_count": 1,
   "metadata": {},
   "outputs": [
    {
     "name": "stdout",
     "output_type": "stream",
     "text": [
      "Chi-square statistic: 1.3482\n",
      "Degrees of freedom: 2\n",
      "Expected frequencies:\n",
      "[[36.11111111 28.88888889]\n",
      " [52.77777778 42.22222222]\n",
      " [36.11111111 28.88888889]]\n",
      "p-value: 0.5096\n",
      "Fail to reject the null hypothesis: The type of watch and gender are independent.\n"
     ]
    }
   ],
   "source": [
    "import numpy as np\n",
    "import pandas as pd\n",
    "from scipy.stats import chi2_contingency\n",
    "\n",
    "# Data\n",
    "data = np.array([[35, 30],  # Brand A\n",
    "                 [50, 45],  # Brand B\n",
    "                 [40, 25]]) # Brand C\n",
    "\n",
    "# Chi-square test\n",
    "chi2, p, dof, expected = chi2_contingency(data)\n",
    "\n",
    "# Given alpha value\n",
    "alpha = 5.991\n",
    "\n",
    "print(f\"Chi-square statistic: {chi2:.4f}\")\n",
    "print(f\"Degrees of freedom: {dof}\")\n",
    "print(f\"Expected frequencies:\\n{expected}\")\n",
    "print(f\"p-value: {p:.4f}\")\n",
    "\n",
    "# Check for independence\n",
    "if chi2 > alpha:\n",
    "    print(\"Reject the null hypothesis: The type of watch and gender are not independent.\")\n",
    "else:\n",
    "    print(\"Fail to reject the null hypothesis: The type of watch and gender are independent.\")\n"
   ]
  },
  {
   "cell_type": "markdown",
   "metadata": {},
   "source": [
    "### Two Sample t-test"
   ]
  },
  {
   "cell_type": "code",
   "execution_count": 2,
   "metadata": {},
   "outputs": [
    {
     "name": "stdout",
     "output_type": "stream",
     "text": [
      "t-statistic: -0.6337\n",
      "p-value: 0.5300\n",
      "Fail to reject the null hypothesis: The means of the two groups are the same.\n"
     ]
    }
   ],
   "source": [
    "from scipy.stats import ttest_ind\n",
    "\n",
    "# Heights of students in two groups\n",
    "group1 = [14, 15, 15, 16, 13, 8, 14, 17, 16, 14, 19, 20, 21, 15, 15, 16, 16, 13, 14, 12]\n",
    "group2 = [15, 17, 14, 17, 14, 8, 12, 19, 19, 14, 17, 22, 24, 16, 13, 16, 13, 18, 15, 13]\n",
    "\n",
    "# Two-sample t-test\n",
    "t_stat, p_value = ttest_ind(group1, group2)\n",
    "\n",
    "print(f\"t-statistic: {t_stat:.4f}\")\n",
    "print(f\"p-value: {p_value:.4f}\")\n",
    "\n",
    "# Significance level\n",
    "alpha = 0.05\n",
    "if p_value < alpha:\n",
    "    print(\"Reject the null hypothesis: The means of the two groups are different.\")\n",
    "else:\n",
    "    print(\"Fail to reject the null hypothesis: The means of the two groups are the same.\")\n"
   ]
  },
  {
   "cell_type": "markdown",
   "metadata": {},
   "source": [
    "### Paired t-test"
   ]
  },
  {
   "cell_type": "code",
   "execution_count": 3,
   "metadata": {},
   "outputs": [
    {
     "name": "stdout",
     "output_type": "stream",
     "text": [
      "Paired t-statistic: 2.5849\n",
      "Paired p-value: 0.0295\n",
      "Reject the null hypothesis: Engine oil significantly impacts mileage.\n"
     ]
    }
   ],
   "source": [
    "from scipy.stats import ttest_rel\n",
    "\n",
    "# Mileage before and after applying the engine oil\n",
    "pre = [30, 31, 34, 40, 36, 35, 34, 30, 28, 29]\n",
    "post = [30, 31, 32, 38, 32, 31, 32, 29, 28, 30]\n",
    "\n",
    "# Paired t-test\n",
    "t_stat, p_value = ttest_rel(pre, post)\n",
    "\n",
    "print(f\"Paired t-statistic: {t_stat:.4f}\")\n",
    "print(f\"Paired p-value: {p_value:.4f}\")\n",
    "\n",
    "# Significance level\n",
    "alpha = 0.05\n",
    "if p_value < alpha:\n",
    "    print(\"Reject the null hypothesis: Engine oil significantly impacts mileage.\")\n",
    "else:\n",
    "    print(\"Fail to reject the null hypothesis: Engine oil does not significantly impact mileage.\")\n"
   ]
  },
  {
   "cell_type": "markdown",
   "metadata": {},
   "source": [
    "### One Sample Z-test"
   ]
  },
  {
   "cell_type": "code",
   "execution_count": 4,
   "metadata": {},
   "outputs": [
    {
     "name": "stdout",
     "output_type": "stream",
     "text": [
      "Z-statistic: 5.1854\n",
      "Reject the null hypothesis: The principal's claim is supported.\n"
     ]
    }
   ],
   "source": [
    "import numpy as np\n",
    "from scipy.stats import norm\n",
    "\n",
    "# Given data\n",
    "sample_mean = 111\n",
    "population_mean = 100\n",
    "std_dev = 15\n",
    "n = 50  # Sample size\n",
    "\n",
    "# Calculate Z-statistic\n",
    "z_stat = (sample_mean - population_mean) / (std_dev / np.sqrt(n))\n",
    "\n",
    "print(f\"Z-statistic: {z_stat:.4f}\")\n",
    "\n",
    "# Critical value for a one-tailed test at alpha=0.05\n",
    "alpha = 0.05\n",
    "z_critical = norm.ppf(1 - alpha)\n",
    "\n",
    "if z_stat > z_critical:\n",
    "    print(\"Reject the null hypothesis: The principal's claim is supported.\")\n",
    "else:\n",
    "    print(\"Fail to reject the null hypothesis: The principal's claim is not supported.\")\n"
   ]
  },
  {
   "cell_type": "markdown",
   "metadata": {},
   "source": [
    "### Two Sample Z-test"
   ]
  },
  {
   "cell_type": "code",
   "execution_count": 5,
   "metadata": {},
   "outputs": [
    {
     "name": "stdout",
     "output_type": "stream",
     "text": [
      "Z-statistic: 12.4451\n",
      "Reject the null hypothesis: Mechanical students are taller than CSE students.\n"
     ]
    }
   ],
   "source": [
    "# Given data\n",
    "mean_cse = 63.60\n",
    "mean_mechanical = 69.51\n",
    "std_dev = 2.48\n",
    "n_cse = 60\n",
    "n_mechanical = 50\n",
    "\n",
    "# Calculate Z-statistic\n",
    "z_stat = (mean_mechanical - mean_cse) / (std_dev * np.sqrt((1/n_cse) + (1/n_mechanical)))\n",
    "\n",
    "print(f\"Z-statistic: {z_stat:.4f}\")\n",
    "\n",
    "# Critical value for a one-tailed test at alpha=0.05\n",
    "alpha = 0.05\n",
    "z_critical = 1.645  # For one-tailed test\n",
    "\n",
    "if z_stat > z_critical:\n",
    "    print(\"Reject the null hypothesis: Mechanical students are taller than CSE students.\")\n",
    "else:\n",
    "    print(\"Fail to reject the null hypothesis: No significant difference in height between students.\")\n"
   ]
  }
 ],
 "metadata": {
  "kernelspec": {
   "display_name": "Python 3",
   "language": "python",
   "name": "python3"
  },
  "language_info": {
   "codemirror_mode": {
    "name": "ipython",
    "version": 3
   },
   "file_extension": ".py",
   "mimetype": "text/x-python",
   "name": "python",
   "nbconvert_exporter": "python",
   "pygments_lexer": "ipython3",
   "version": "3.12.7"
  }
 },
 "nbformat": 4,
 "nbformat_minor": 2
}
