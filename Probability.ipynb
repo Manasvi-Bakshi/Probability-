{
 "cells": [
  {
   "cell_type": "markdown",
   "metadata": {},
   "source": [
    "# Lab Experiment 3"
   ]
  },
  {
   "cell_type": "markdown",
   "metadata": {},
   "source": [
    "### Rolling Dice"
   ]
  },
  {
   "cell_type": "code",
   "execution_count": 1,
   "metadata": {},
   "outputs": [
    {
     "name": "stdout",
     "output_type": "stream",
     "text": [
      "Probability of getting a total score of 7 or even number: 0.6520\n"
     ]
    }
   ],
   "source": [
    "import random\n",
    "\n",
    "# Function to roll two dice\n",
    "def roll_dice():\n",
    "    die1 = random.randint(1, 6)\n",
    "    die2 = random.randint(1, 6)\n",
    "    return die1 + die2\n",
    "\n",
    "# Number of rolls\n",
    "num_rolls = 1000\n",
    "success_count = 0\n",
    "\n",
    "# Roll the dice num_rolls times\n",
    "for _ in range(num_rolls):\n",
    "    total = roll_dice()\n",
    "    if total == 7 or total % 2 == 0:  # Check if total is 7 or even\n",
    "        success_count += 1\n",
    "\n",
    "# Calculate probability\n",
    "probability = success_count / num_rolls\n",
    "print(f\"Probability of getting a total score of 7 or even number: {probability:.4f}\")"
   ]
  },
  {
   "cell_type": "markdown",
   "metadata": {},
   "source": [
    "### Drawing Balls with Replacement"
   ]
  },
  {
   "cell_type": "code",
   "execution_count": 2,
   "metadata": {},
   "outputs": [
    {
     "name": "stdout",
     "output_type": "stream",
     "text": [
      "Probability of drawing 3 white and 2 red: 0.0051\n",
      "Probability that all 5 balls are of the same color: 0.0355\n"
     ]
    }
   ],
   "source": [
    "import numpy as np\n",
    "import pandas as pd\n",
    "from math import comb\n",
    "\n",
    "# Create a DataFrame to represent the balls\n",
    "data = {\n",
    "    'Color': ['White', 'Red', 'Green'],\n",
    "    'Count': [10, 20, 30]\n",
    "}\n",
    "\n",
    "balls_df = pd.DataFrame(data)\n",
    "\n",
    "# Calculate the total number of balls\n",
    "total_balls = balls_df['Count'].sum()\n",
    "\n",
    "# Calculate probabilities of each color\n",
    "balls_df['Probability'] = balls_df['Count'] / total_balls\n",
    "\n",
    "# a. Probability of drawing 3 white and 2 red\n",
    "n = 5  # total draws\n",
    "k_white = 3  # number of white balls\n",
    "k_red = 2    # number of red balls\n",
    "\n",
    "# Using the binomial probability formula\n",
    "prob_3_white_2_red = (comb(n, k_white) * (balls_df.loc[balls_df['Color'] == 'White', 'Probability'].values[0] ** k_white) *\n",
    "                                           (balls_df.loc[balls_df['Color'] == 'Red', 'Probability'].values[0] ** k_red))\n",
    "print(f\"Probability of drawing 3 white and 2 red: {prob_3_white_2_red:.4f}\")\n",
    "\n",
    "# b. Probability that all 5 are of the same color\n",
    "# Calculate probabilities for all colors being the same\n",
    "probabilities = balls_df['Probability'].values\n",
    "prob_all_same_color = sum(probabilities ** n)\n",
    "\n",
    "print(f\"Probability that all 5 balls are of the same color: {prob_all_same_color:.4f}\")\n"
   ]
  }
 ],
 "metadata": {
  "kernelspec": {
   "display_name": "Python 3",
   "language": "python",
   "name": "python3"
  },
  "language_info": {
   "codemirror_mode": {
    "name": "ipython",
    "version": 3
   },
   "file_extension": ".py",
   "mimetype": "text/x-python",
   "name": "python",
   "nbconvert_exporter": "python",
   "pygments_lexer": "ipython3",
   "version": "3.12.7"
  }
 },
 "nbformat": 4,
 "nbformat_minor": 2
}
