{
 "cells": [
  {
   "cell_type": "markdown",
   "id": "14ff43f6",
   "metadata": {},
   "source": [
    "# Lab Experiment 6"
   ]
  },
  {
   "cell_type": "code",
   "execution_count": 1,
   "id": "624d540f",
   "metadata": {},
   "outputs": [],
   "source": [
    "import pandas as pd\n",
    "import numpy as np\n",
    "from scipy import stats"
   ]
  },
  {
   "cell_type": "code",
   "execution_count": 3,
   "id": "37809fc6",
   "metadata": {},
   "outputs": [
    {
     "name": "stdout",
     "output_type": "stream",
     "text": [
      "   Daily None  Daily Low  Daily Medium  Daily High  Weekly None  Weekly Low  \\\n",
      "0         4.8        5.0           6.4         6.3          4.4         4.9   \n",
      "1         4.4        5.2           6.2         6.4          4.2         5.3   \n",
      "2         3.2        5.6           4.7         5.6          3.8         5.7   \n",
      "3         3.9        4.3           5.5         4.8          3.7         5.4   \n",
      "4         4.4        4.8           5.8         5.8          3.9         4.8   \n",
      "\n",
      "   Weekly Medium  Weekly High  \n",
      "0            5.8          6.0  \n",
      "1            6.2          4.9  \n",
      "2            6.3          4.6  \n",
      "3            6.5          5.6  \n",
      "4            5.5          5.5  \n"
     ]
    }
   ],
   "source": [
    "# Table Data\n",
    "\n",
    "data = {\n",
    "    'Daily None': [4.8, 4.4, 3.2, 3.9, 4.4],\n",
    "    'Daily Low': [5, 5.2, 5.6, 4.3, 4.8],\n",
    "    'Daily Medium': [6.4, 6.2, 4.7, 5.5, 5.8],\n",
    "    'Daily High': [6.3, 6.4, 5.6, 4.8, 5.8],\n",
    "    'Weekly None': [4.4, 4.2, 3.8, 3.7, 3.9],\n",
    "    'Weekly Low': [4.9, 5.3, 5.7, 5.4, 4.8],\n",
    "    'Weekly Medium': [5.8, 6.2, 6.3, 6.5, 5.5],\n",
    "    'Weekly High': [6, 4.9, 4.6, 5.6, 5.5],\n",
    "}\n",
    "\n",
    "# Create and display DataFrame\n",
    "df = pd.DataFrame(data)\n",
    "print(df)\n"
   ]
  },
  {
   "cell_type": "code",
   "execution_count": null,
   "id": "d038bcf0",
   "metadata": {},
   "outputs": [],
   "source": [
    "# "
   ]
  }
 ],
 "metadata": {
  "kernelspec": {
   "display_name": "Python 3 (ipykernel)",
   "language": "python",
   "name": "python3"
  },
  "language_info": {
   "codemirror_mode": {
    "name": "ipython",
    "version": 3
   },
   "file_extension": ".py",
   "mimetype": "text/x-python",
   "name": "python",
   "nbconvert_exporter": "python",
   "pygments_lexer": "ipython3",
   "version": "3.9.13"
  }
 },
 "nbformat": 4,
 "nbformat_minor": 5
}
