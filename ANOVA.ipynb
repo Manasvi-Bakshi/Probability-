{
 "cells": [
  {
   "cell_type": "markdown",
   "id": "14ff43f6",
   "metadata": {},
   "source": [
    "# Lab Experiment 6"
   ]
  },
  {
   "cell_type": "code",
   "execution_count": null,
   "id": "a1c3ec59",
   "metadata": {},
   "outputs": [],
   "source": [
    "%pip install statsmodels"
   ]
  },
  {
   "cell_type": "code",
   "execution_count": 1,
   "id": "624d540f",
   "metadata": {},
   "outputs": [],
   "source": [
    "import pandas as pd\n",
    "import numpy as np\n",
    "from scipy import stats\n",
    "import statsmodels.api as sm\n",
    "from statsmodels.formula.api import ols"
   ]
  },
  {
   "cell_type": "code",
   "execution_count": 2,
   "id": "37809fc6",
   "metadata": {},
   "outputs": [
    {
     "name": "stdout",
     "output_type": "stream",
     "text": [
      "Sunlight Exposure\n",
      "  Watering Frequency  None  Low  Medium  High\n",
      "0              Daily   4.8  5.0     6.4   6.3\n",
      "1              Daily   4.4  5.2     6.2   6.4\n",
      "2              Daily   3.2  5.6     4.7   5.6\n",
      "3              Daily   3.9  4.3     5.5   4.8\n",
      "4              Daily   4.4  4.8     5.8   5.8\n",
      "5             Weekly   4.4  4.9     5.8   6.0\n",
      "6             Weekly   4.2  5.3     6.2   4.9\n",
      "7             Weekly   3.8  5.7     6.3   4.6\n",
      "8             Weekly   3.7  5.4     6.5   5.6\n",
      "9             Weekly   3.9  4.8     5.5   5.5\n"
     ]
    }
   ],
   "source": [
    "# Table Data\n",
    "data = {\n",
    "    \"Watering Frequency\": [\"Daily\", \"Daily\", \"Daily\", \"Daily\", \"Daily\", \"Weekly\", \"Weekly\", \"Weekly\", \"Weekly\", \"Weekly\"],\n",
    "    \"None\": [4.8, 4.4, 3.2, 3.9, 4.4, 4.4, 4.2, 3.8, 3.7, 3.9],\n",
    "    \"Low\": [5, 5.2, 5.6, 4.3, 4.8, 4.9, 5.3, 5.7, 5.4, 4.8],\n",
    "    \"Medium\": [6.4, 6.2, 4.7, 5.5, 5.8, 5.8, 6.2, 6.3, 6.5, 5.5],\n",
    "    \"High\": [6.3, 6.4, 5.6, 4.8, 5.8, 6, 4.9, 4.6, 5.6, 5.5]\n",
    "}\n",
    "\n",
    "df = pd.DataFrame(data)\n",
    "\n",
    "# Display the DataFrame with the heading\n",
    "print(\"Sunlight Exposure\")\n",
    "print(df)\n"
   ]
  },
  {
   "cell_type": "code",
   "execution_count": null,
   "id": "d038bcf0",
   "metadata": {},
   "outputs": [],
   "source": []
  }
 ],
 "metadata": {
  "kernelspec": {
   "display_name": "Python 3",
   "language": "python",
   "name": "python3"
  },
  "language_info": {
   "codemirror_mode": {
    "name": "ipython",
    "version": 3
   },
   "file_extension": ".py",
   "mimetype": "text/x-python",
   "name": "python",
   "nbconvert_exporter": "python",
   "pygments_lexer": "ipython3",
   "version": "3.12.7"
  }
 },
 "nbformat": 4,
 "nbformat_minor": 5
}
